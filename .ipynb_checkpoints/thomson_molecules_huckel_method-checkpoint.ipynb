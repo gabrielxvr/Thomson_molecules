{
 "cells": [
  {
   "cell_type": "code",
   "execution_count": 1,
   "id": "038fc3bf-5cf6-427d-abcd-df494c94b5af",
   "metadata": {},
   "outputs": [],
   "source": [
    "import numpy as np\n",
    "import pandas as pd\n",
    "from energy_plot import *\n",
    "from system import *\n",
    "import matplotlib.pyplot as plt"
   ]
  },
  {
   "cell_type": "code",
   "execution_count": 2,
   "id": "e0227f49-5559-41c5-9940-a0b12303729f",
   "metadata": {},
   "outputs": [],
   "source": [
    "VP = np.genfromtxt('vps_data/N12.txt', delimiter=', ')\n",
    "\n",
    "D = distances_matrix(VP)\n",
    "\n",
    "n = D.shape[0]\n",
    "D[range(n), range(n)] = 100\n",
    "\n",
    "D = D/D.min()"
   ]
  },
  {
   "cell_type": "code",
   "execution_count": 4,
   "id": "f74f817e-ab19-4324-a32d-b7e4a55aff8c",
   "metadata": {},
   "outputs": [
    {
     "name": "stdout",
     "output_type": "stream",
     "text": [
      "[[-0. -1. -0. -0. -1. -1. -0. -1. -1. -0. -0. -0.]\n",
      " [-1. -0. -1. -0. -0. -1. -0. -1. -0. -1. -0. -0.]\n",
      " [-0. -1. -0. -0. -0. -0. -1. -1. -0. -1. -0. -1.]\n",
      " [-0. -0. -0. -0. -1. -1. -1. -0. -0. -1. -1. -0.]\n",
      " [-1. -0. -0. -1. -0. -1. -0. -0. -1. -0. -1. -0.]\n",
      " [-1. -1. -0. -1. -1. -0. -0. -0. -0. -1. -0. -0.]\n",
      " [-0. -0. -1. -1. -0. -0. -0. -0. -0. -1. -1. -1.]\n",
      " [-1. -1. -1. -0. -0. -0. -0. -0. -1. -0. -0. -1.]\n",
      " [-1. -0. -0. -0. -1. -0. -0. -1. -0. -0. -1. -1.]\n",
      " [-0. -1. -1. -1. -0. -1. -1. -0. -0. -0. -0. -0.]\n",
      " [-0. -0. -0. -1. -1. -0. -1. -0. -1. -0. -0. -1.]\n",
      " [-0. -0. -1. -0. -0. -0. -1. -1. -1. -0. -1. -0.]]\n"
     ]
    }
   ],
   "source": [
    "ALPHA = -0.0\n",
    "BETA = -1\n",
    "GAMMA = 5\n",
    "\n",
    "H = hamiltonian(D, ALPHA, BETA, GAMMA)\n",
    "\n",
    "H = np.array(H, dtype=float)\n",
    "\n",
    "H = np.around(H, decimals=1)\n",
    "\n",
    "print(H)"
   ]
  },
  {
   "cell_type": "code",
   "execution_count": 5,
   "id": "51f5e23f-2f2d-406f-b030-935ae0f3bdd0",
   "metadata": {},
   "outputs": [
    {
     "name": "stdout",
     "output_type": "stream",
     "text": [
      "[-5.          1.         -2.23606798 -2.23606798  2.23606798  2.23606798\n",
      "  1.          2.23606798 -2.23606798  1.          1.          1.        ]\n"
     ]
    }
   ],
   "source": [
    "evals, evecs = np.linalg.eig(H)\n",
    "#evals = np.real(evals)\n",
    "print(evals)"
   ]
  },
  {
   "cell_type": "code",
   "execution_count": 6,
   "id": "759189c0-f6e4-452a-8107-9ff632ed984d",
   "metadata": {},
   "outputs": [
    {
     "name": "stdout",
     "output_type": "stream",
     "text": [
      "[[-5.0], [1.0, 1.0, 1.0, 1.0, 1.0], [-2.236068, -2.236068, -2.236068], [2.236068, 2.236068, 2.236068]]\n"
     ]
    },
    {
     "data": {
      "image/png": "[encoded data removed]",
      "text/plain": [
       "<Figure size 360x1440 with 1 Axes>"
      ]
     },
     "metadata": {
      "needs_background": "light"
     },
     "output_type": "display_data"
    }
   ],
   "source": [
    "plot_energy_levels(evals, 6)\n",
    "#plt.savefig(f'thomson_molecule.png', dpi=600)\n",
    "# Show the plot\n",
    "plt.show()"
   ]
  }
 ],
 "metadata": {
  "kernelspec": {
   "display_name": "ilumpy",
   "language": "python",
   "name": "ilumpy"
  },
  "language_info": {
   "codemirror_mode": {
    "name": "ipython",
    "version": 3
   },
   "file_extension": ".py",
   "mimetype": "text/x-python",
   "name": "python",
   "nbconvert_exporter": "python",
   "pygments_lexer": "ipython3",
   "version": "3.9.7"
  }
 },
 "nbformat": 4,
 "nbformat_minor": 5
}
