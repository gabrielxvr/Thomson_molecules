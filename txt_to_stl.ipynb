{
 "cells": [
  {
   "cell_type": "code",
   "execution_count": 6,
   "metadata": {},
   "outputs": [],
   "source": [
    "from scipy.spatial import ConvexHull\n",
    "from stl import mesh\n",
    "import numpy as np\n",
    "\n",
    "pontos = np.array(\n",
    "    [\n",
    "        [0.26295766989233, -0.77367763277684, 0.57643402431295],\n",
    "        [0.99173360691940, 0.01088493241960, -0.12785136351584],\n",
    "        [0.18386542849509, 0.97655761918020, 0.11193176772221],\n",
    "        [-0.73873395788922, -0.65620949982719, 0.15382207838239],\n",
    "        [-0.79466061788263, 0.58139371195556, -0.17463062184202],\n",
    "        [-0.52855026444359, -0.23998820230990, -0.81427285396768],\n",
    "        [0.52855026833562, 0.23998819628140, 0.81427285321810],\n",
    "        [0.29191085307296, 0.45332951632285, -0.84218786709897],\n",
    "        [-0.54491050501616, 0.19199505935279, 0.81621715168646],\n",
    "        [0.34783751836567, -0.78427370036534, -0.51373516886861],\n",
    "    ]\n",
    ")\n",
    "\n",
    "hull = ConvexHull(pontos)\n",
    "\n",
    "face_data = np.zeros(len(hull.simplices), dtype=mesh.Mesh.dtype)\n",
    "for i, simplex in enumerate(hull.simplices):\n",
    "    for j in range(3):\n",
    "        face_data[\"vectors\"][i][j] = pontos[simplex[j], :]\n",
    "\n",
    "objeto_3d = mesh.Mesh(face_data)\n",
    "\n",
    "objeto_3d.save(\"poliedro_convexo.stl\")"
   ]
  }
 ],
 "metadata": {
  "kernelspec": {
   "display_name": "pepepy_filho",
   "language": "python",
   "name": "python3"
  },
  "language_info": {
   "codemirror_mode": {
    "name": "ipython",
    "version": 3
   },
   "file_extension": ".py",
   "mimetype": "text/x-python",
   "name": "python",
   "nbconvert_exporter": "python",
   "pygments_lexer": "ipython3",
   "version": "3.11.5"
  },
  "orig_nbformat": 4
 },
 "nbformat": 4,
 "nbformat_minor": 2
}
